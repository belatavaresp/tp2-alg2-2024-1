{
 "cells": [
  {
   "cell_type": "markdown",
   "metadata": {},
   "source": [
    "## Descrição do problema (k-centros)\n",
    "Dado um conjunto de $n$ pontos e um parâmetro $k$, deseja-se encontrar $k$ centros de forma que os pontos estejam o mais próximo possível desses centros (cada ponto está localizado a uma distância máxima $r$ de um dos centros).\n",
    "\n",
    "**Entrada:** Conjunto de pontos $S = {s_1, s_2, ..., s_n}$; Função(métrica) de distância $\\text{dist}: S \\times S \\rightarrow \\mathbb{R}^+$; Inteiro (número de centros) $k$.\n",
    "\n",
    "**Saída:** Conjunto de centros $C = {c_1, c_2, ..., c_k}$\n",
    "\n",
    "**Objetivo:** minimizar o $r$ máximo dos clusters, $r(C) = \\max \\{ \\text{dist}(s_i, C) \\}$ onde $\\text{dist}(s_i, C) = \\min \\{ \\text{dist}(s_i, c_j) \\}$\n"
   ]
  },
  {
   "cell_type": "code",
   "execution_count": 2,
   "metadata": {},
   "outputs": [],
   "source": [
    "# bibliotecas\n",
    "\n",
    "import numpy as np\n",
    "from ucimlrepo import fetch_ucirepo\n",
    "import pandas as pd"
   ]
  },
  {
   "cell_type": "code",
   "execution_count": 11,
   "metadata": {},
   "outputs": [],
   "source": [
    "# dataset (Wine)\n",
    "\n",
    "wine = fetch_ucirepo(id=109) \n",
    "  \n",
    "# dados (datasets tipo pandas)\n",
    "X = wine.data.features # features de cada vinho (178 x 13), tipo contínuo/int\n",
    "y = wine.data.targets  # classes dos vinhos (178 x 1), existem 3 classes distintas\n",
    "\n",
    "samples = X.shape[0] "
   ]
  },
  {
   "cell_type": "markdown",
   "metadata": {},
   "source": [
    "### ***Métricas:*** Distância de Minkowski\n",
    "A distância entre dois pontos $x$ e $y$ em $\\mathbb{R}^n$ é dada por:\n",
    "\n",
    "$$\n",
    "\\text{dist}(x, y) = \\left( \\sum_{i=1}^{n} |x_i - y_i|^p \\right)^{\\frac{1}{p}}\n",
    "$$"
   ]
  },
  {
   "cell_type": "code",
   "execution_count": 13,
   "metadata": {},
   "outputs": [],
   "source": [
    "def minkowski_dist(x,y,p):\n",
    "    # x, y -> tuplas\n",
    "    # p -> int\n",
    "    d = 0\n",
    "    for i in range(len(x)):\n",
    "        d+=pow(abs(x[i]-y[i]), p)\n",
    "    \n",
    "    return pow(d,1/p)"
   ]
  },
  {
   "cell_type": "markdown",
   "metadata": {},
   "source": [
    "### Matrizes de distância entre os pontos \n",
    "$p=1$: Distância de Manhattan"
   ]
  },
  {
   "cell_type": "code",
   "execution_count": 16,
   "metadata": {},
   "outputs": [
    {
     "name": "stdout",
     "output_type": "stream",
     "text": [
      "[[  0.    51.06 152.48 ... 257.14 249.41 558.28]\n",
      " [ 51.06   0.   148.3  ... 257.98 250.55 521.18]\n",
      " [152.48 148.3    0.   ... 384.76 376.83 649.14]\n",
      " ...\n",
      " [257.14 257.98 384.76 ...   0.     8.15 306.74]\n",
      " [249.41 250.55 376.83 ...   8.15   0.   312.09]\n",
      " [558.28 521.18 649.14 ... 306.74 312.09   0.  ]]\n"
     ]
    }
   ],
   "source": [
    "manhattan_d = np.zeros((samples, samples))\n",
    "X_arr = X.to_numpy() if hasattr(X, 'to_numpy') else np.array(X) # convertendo o dataset pra numpy (evitar erro de indexação)\n",
    "\n",
    "for i in range(samples):\n",
    "    for j in range(i + 1, samples):\n",
    "        dist = minkowski_dist(X_arr[i], X_arr[j], p=1)\n",
    "        manhattan_d[i, j] = dist\n",
    "        manhattan_d[j, i] = dist  # simetria\n",
    "        \n",
    "print(manhattan_d)"
   ]
  },
  {
   "cell_type": "markdown",
   "metadata": {},
   "source": [
    "$p=2$: Distância Euclidiana"
   ]
  },
  {
   "cell_type": "code",
   "execution_count": 17,
   "metadata": {},
   "outputs": [
    {
     "name": "stdout",
     "output_type": "stream",
     "text": [
      "[[  0.          31.26501239 122.83115403 ... 230.24002302 225.21518399\n",
      "  506.05936766]\n",
      " [ 31.26501239   0.         135.22469301 ... 216.22123207 211.21353863\n",
      "  490.23526821]\n",
      " [122.83115403 135.22469301   0.         ... 350.57118792 345.56265177\n",
      "  625.07017782]\n",
      " ...\n",
      " [230.24002302 216.22123207 350.57118792 ...   0.           5.35888981\n",
      "  276.08601522]\n",
      " [225.21518399 211.21353863 345.56265177 ...   5.35888981   0.\n",
      "  281.06899242]\n",
      " [506.05936766 490.23526821 625.07017782 ... 276.08601522 281.06899242\n",
      "    0.        ]]\n"
     ]
    }
   ],
   "source": [
    "euclid_d = np.zeros((samples, samples))\n",
    "\n",
    "for i in range(samples):\n",
    "    for j in range(i + 1, samples):\n",
    "        dist = minkowski_dist(X_arr[i], X_arr[j], p=2)\n",
    "        euclid_d[i, j] = dist\n",
    "        euclid_d[j, i] = dist  # simetria\n",
    "        \n",
    "print(euclid_d)"
   ]
  },
  {
   "cell_type": "code",
   "execution_count": 2,
   "metadata": {},
   "outputs": [],
   "source": [
    "# Entrada: número N de samples, número k de centros, matriz dist de distâncias\n",
    "# Saída: raio r, seguido de uma lista com os índices dos k centros escolhidos\n",
    "# A escolha do primeiro centro é aleatória.\n",
    "import random\n",
    "import math\n",
    "def alg_maiores_distancias(N, k, dist):\n",
    "    ans = []\n",
    "    ans.append(random.randrange(N))\n",
    "    for i in range(k-1):\n",
    "        best = -math.inf\n",
    "        center = None\n",
    "        for p in range(N):\n",
    "            val = math.inf\n",
    "            for q in ans:\n",
    "                val = min(val, dist[p][q])\n",
    "            if val > best:\n",
    "                center = p\n",
    "                best = val\n",
    "        ans.append(center)\n",
    "\n",
    "    r = -math.inf\n",
    "    for p in range(N):\n",
    "        best = math.inf\n",
    "        for q in ans:\n",
    "            best = min(best, dist(L[p], L[q]))\n",
    "        r = max(r, best)\n",
    "\n",
    "    return r, ans \n"
   ]
  },
  {
   "cell_type": "code",
   "execution_count": null,
   "metadata": {},
   "outputs": [],
   "source": [
    "alg_maiores_distancias(samples, 2, euclid"
   ]
  },
  {
   "cell_type": "code",
   "execution_count": null,
   "metadata": {},
   "outputs": [],
   "source": []
  }
 ],
 "metadata": {
  "kernelspec": {
   "display_name": "Python 3 (ipykernel)",
   "language": "python",
   "name": "python3"
  },
  "language_info": {
   "codemirror_mode": {
    "name": "ipython",
    "version": 3
   },
   "file_extension": ".py",
   "mimetype": "text/x-python",
   "name": "python",
   "nbconvert_exporter": "python",
   "pygments_lexer": "ipython3",
   "version": "3.10.12"
  }
 },
 "nbformat": 4,
 "nbformat_minor": 4
}
